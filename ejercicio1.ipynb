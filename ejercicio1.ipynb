{
  "nbformat": 4,
  "nbformat_minor": 0,
  "metadata": {
    "colab": {
      "provenance": []
    },
    "kernelspec": {
      "name": "python3",
      "display_name": "Python 3"
    },
    "language_info": {
      "name": "python"
    }
  },
  "cells": [
    {
      "cell_type": "code",
      "execution_count": null,
      "metadata": {
        "id": "e1Bwaixl1lWJ",
        "outputId": "e0f7b67d-9be3-41d9-d61c-797b2ff76a95",
        "colab": {
          "base_uri": "https://localhost:8080/"
        }
      },
      "outputs": [
        {
          "output_type": "stream",
          "name": "stdout",
          "text": [
            "[5, 9, 10]\n"
          ]
        }
      ],
      "source": [
        "# Un algoritmo que lea tres números y los imprima ordenados ascendentemente.\n",
        "# Define los tres números\n",
        "num1 = 5\n",
        "num2 = 10\n",
        "num3 = 9\n",
        "\n",
        "# Coloca los números en una lista\n",
        "numeros = [num1, num2, num3]\n",
        "\n",
        "# Ordena la lista en orden ascendente\n",
        "numeros.sort()\n",
        "\n",
        "# Imprime los números ordenados\n",
        "print(numeros)\n"
      ]
    }
  ]
}